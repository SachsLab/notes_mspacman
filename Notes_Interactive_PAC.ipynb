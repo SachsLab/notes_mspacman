{
 "cells": [
  {
   "cell_type": "code",
   "execution_count": 1,
   "metadata": {
    "scrolled": false
   },
   "outputs": [],
   "source": [
    "from ipywidgets import interactive\n",
    "from ipywidgets import widgets\n",
    "from IPython.display import display\n",
    "\n",
    "import numpy as np\n",
    "import multiprocessing\n",
    "from scipy.signal import (hilbert, decimate)\n",
    "import matplotlib.pyplot as plt\n",
    "from matplotlib.gridspec import GridSpec\n",
    "\n",
    "from mspacman import (PACGenerator, PhaseAmplitudeCoupling)\n",
    "from mspacman.algorithm.pac_ import (mrpad, polar)\n",
    "from mspacman.generator.noise import (white, pink)"
   ]
  },
  {
   "cell_type": "code",
   "execution_count": 2,
   "metadata": {},
   "outputs": [],
   "source": [
    "# Simulation Parameters\n",
    "# -----------------------------------------\n",
    "# Select Channel\n",
    "# There are 11 channels used in this data.\n",
    "# Play around to see what changes. (0-10)\n",
    "# -----------------------------------------\n",
    "decimate_by = 1\n",
    "\n",
    "dp = 3\n",
    "da = 30\n",
    "fpsize = 15\n",
    "fasize = 15\n",
    "\n",
    "p_range = (6, 50)\n",
    "a_range = (60, 500)\n",
    "\n",
    "fp = np.arange(*p_range, int(np.ceil(np.diff(p_range)/fpsize)), dtype=int)\n",
    "fa = np.arange(*a_range, int(np.ceil(np.diff(a_range)/fasize)), dtype=int)\n",
    "\n",
    "fois_lo = np.asarray([(p-dp, p+dp) for p in fp])\n",
    "fois_hi = np.asarray([(a-da, a+da) for a in fa])"
   ]
  },
  {
   "cell_type": "code",
   "execution_count": 3,
   "metadata": {},
   "outputs": [],
   "source": [
    "global fs, t_dur, tvec\n",
    "fs = 2**14\n",
    "t_dur = 8\n",
    "tvec = np.arange(fs*t_dur) / fs\n",
    "nsamp = fs * t_dur\n",
    "binsize = 10\n",
    "\n",
    "comod = PhaseAmplitudeCoupling(nch=1, nsamp=nsamp, freq_phase=fois_lo, freq_amp=fois_hi, sample_rate=fs,\\\n",
    "                               nprocs=multiprocessing.cpu_count()-1, pac='mi', nbins=10, mprocs=True)\n",
    "\n",
    "bin_centers = np.linspace(-np.pi, np.pi, binsize+1)\n",
    "def func(freq_phase, freq_amp, scale_phase, scale_amp, phase_amp, pac, noise):\n",
    "    lo, hi = PACGenerator._pac_hr(fs*t_dur, pac, scale_phase, scale_amp, \\\n",
    "                                    freq_phase, freq_amp, fs, phase_amp=phase_amp)\n",
    "\n",
    "    xlo = hilbert(lo)\n",
    "    xhi = hilbert(hi)\n",
    "    out = np.atleast_2d(xlo.real + xhi.real)\n",
    "    \n",
    "    if noise:\n",
    "        noise_ = (white(1, nsamp, std=.5) + pink(1, nsamp, std=.5))\n",
    "        out += noise_\n",
    "        comod.comodulogram(out)\n",
    "        xlo = np.mean(comod._xlo, axis=1)[:,np.newaxis,:]\n",
    "        xhi = np.mean(comod._xhi, axis=1)[:,np.newaxis,:]    \n",
    "\n",
    "    else:\n",
    "        comod.comodulogram(out)\n",
    "        xlo = decimate(xlo, 15, ftype='iir', axis=-1, zero_phase=True)[:,np.newaxis,:-1]\n",
    "        xhi = decimate(xhi, 15, ftype='iir', axis=-1, zero_phase=True)[:,np.newaxis,:-1]\n",
    "\n",
    "    pd = mrpad(np.angle(xlo), np.abs(xhi), nbins=10, axis=-1)[0,0,0,:]\n",
    "    z = polar(np.angle(xlo), np.abs(xhi))[0,0,0,:]\n",
    "\n",
    "    # Prepare Plots\n",
    "    fig_pac = plt.figure(figsize=(12,6))\n",
    "    gs1_pac = GridSpec(1, 1)\n",
    "    gs2_pac = GridSpec(1, 3)\n",
    "\n",
    "    gs1_pac.update(left=0.1, right=0.9, top=.9, bottom=.6, hspace=.01)\n",
    "    gs2_pac.update(left=0.1, right=0.95, top=.45, bottom=.1, hspace=.01, wspace=.4)\n",
    "\n",
    "    ax1_pac = [0, 1, 2, 3]\n",
    "    ax1_pac[0] = plt.subplot(gs1_pac[:, :])\n",
    "    ax1_pac[1] = plt.subplot(gs2_pac[:, 0])\n",
    "    ax1_pac[2] = plt.subplot(gs2_pac[:, 1])\n",
    "    ax1_pac[3] = plt.subplot(gs2_pac[:, 2])\n",
    "    \n",
    "    # Plot data\n",
    "    ax1_pac[0].plot(tvec[:fs], out.T[:fs], c='k')\n",
    "    ax1_pac[1].plot(z.real,z.imag, 'k')\n",
    "    ax1_pac[1].plot([0,z.real.mean()], [0,z.imag.mean()], color='r')\n",
    "    ax1_pac[2].bar(bin_centers[:-1], pd, color='k', width=.5)\n",
    "    comod.plot_comodulogram(ch=0, axs=[ax1_pac[3]], cbar=False, cmap='gray')\n",
    "    \n",
    "    ax1_pac[1].set_xlim([-1, 1])\n",
    "    ax1_pac[1].set_ylim([-1, 1])\n",
    "    plt.show()"
   ]
  },
  {
   "cell_type": "code",
   "execution_count": 4,
   "metadata": {
    "scrolled": false
   },
   "outputs": [
    {
     "data": {
      "application/vnd.jupyter.widget-view+json": {
       "model_id": "27ccc59c2d054171925fb99a843f30bd",
       "version_major": 2,
       "version_minor": 0
      },
      "text/plain": [
       "interactive(children=(IntSlider(value=16, description='freq_phase', max=48, min=2, step=2), IntSlider(value=13…"
      ]
     },
     "metadata": {},
     "output_type": "display_data"
    }
   ],
   "source": [
    "control_freq_phase = widgets.IntSlider(min=2, max=48, step=2, value=16)\n",
    "control_freq_amp = widgets.IntSlider(min=100, max=200, step=10, value=130)\n",
    "control_scale_phase = widgets.FloatSlider(min=0, max=1, step=.1, value=1)\n",
    "control_scale_amp = widgets.FloatSlider(min=0, max=1, step=.1, value=.2)\n",
    "control_phase_ampenv = widgets.FloatSlider(min=-np.pi, max=np.pi, step=np.pi/10, value=0)\n",
    "control_pac = widgets.FloatSlider(min=0, max=1, step=.1, value=.7)\n",
    "\n",
    "y=interactive(func,\n",
    "              freq_phase=control_freq_phase,\n",
    "              freq_amp=control_freq_amp,\n",
    "              scale_phase=control_scale_phase,\n",
    "              scale_amp=control_scale_amp,\n",
    "              phase_amp=control_phase_ampenv,\n",
    "              pac=control_pac,\n",
    "              noise=False)\n",
    "\n",
    "# control = VBox([control_freq_phase,\n",
    "#                 control_freq_amp,\n",
    "#                 control_scale_phase,\n",
    "#                 control_scale_amp,\n",
    "#                 control_phase_ampenv,\n",
    "#                 control_pac])\n",
    "\n",
    "display(y)"
   ]
  },
  {
   "cell_type": "code",
   "execution_count": 5,
   "metadata": {},
   "outputs": [],
   "source": [
    "# comod.kill()"
   ]
  },
  {
   "cell_type": "code",
   "execution_count": null,
   "metadata": {},
   "outputs": [],
   "source": []
  }
 ],
 "metadata": {
  "kernelspec": {
   "display_name": "Python 3",
   "language": "python",
   "name": "python3"
  },
  "language_info": {
   "codemirror_mode": {
    "name": "ipython",
    "version": 3
   },
   "file_extension": ".py",
   "mimetype": "text/x-python",
   "name": "python",
   "nbconvert_exporter": "python",
   "pygments_lexer": "ipython3",
   "version": "3.6.5"
  }
 },
 "nbformat": 4,
 "nbformat_minor": 2
}
