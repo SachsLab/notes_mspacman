{
 "cells": [
  {
   "cell_type": "markdown",
   "metadata": {},
   "source": [
    "# PAC Methods Comparisons\n",
    "\n",
    "#### Written by: David C.C. Lu\n",
    "\n",
    "This notebook consists of analysis of different PAC computation methods described in detail [here](Notes_PAC_Method.ipynb).\n",
    "This is a simple comparisons between PAC methods. i.e., Height Ratios (HR) vs Mean Vector Length (MVL) vs Modulation Index (MI).\n",
    "\n",
    "For more information on PAC, read the documents in [references](#references), also read the following notebooks:\n",
    "* [Notes on PAC generator](Notes_PAC_Generator.ipynb): This notebook describes how PAC signals are generated in the analysis performed here.\n",
    "* [Notes on PAC methods](Notes_PAC_Method.ipynb): This notebook described in detail how each PAC computation method are formulated.\n",
    "\n",
    "# Overview\n",
    "\n",
    "This notebook focuses on comparing the performance between different PAC methods.\n",
    "In order to properly set up the comparison, a number of PAC signals are generated.\n",
    "The generated signals are based on the modulating PAC (`sig['pac_mod']`) mentioned in the [Notes on PAC generator](Notes_PAC_Generator.ipynb).\n",
    "\n",
    "The first comparison is on the how well each algorithm performs on tracking the quantified PAC. \n",
    "The next comparison is on the performance of the comodulogram computing from each method.\n",
    "\n",
    "* [Generate a Test Signal](#gen_test_signal)\n",
    "* [PAC Comodulogram Processing](#comod_procs)\n",
    "* [Plot Comparison Results](#plot_results)\n",
    "* [References](#references)"
   ]
  },
  {
   "cell_type": "code",
   "execution_count": 1,
   "metadata": {},
   "outputs": [],
   "source": [
    "# Import all system modules\n",
    "import os\n",
    "import sys\n",
    "import time\n",
    "\n",
    "# Import all scientific modules\n",
    "import numpy as np\n",
    "from pytf import FilterBank\n",
    "import mne\n",
    "from mspacman.generator import noise\n",
    "from mspacman import PhaseAmplitudeCoupling\n",
    "\n",
    "import matplotlib.pyplot as plt\n",
    "from matplotlib.colors import LogNorm\n",
    "from matplotlib.gridspec import GridSpec\n",
    "from mpl_toolkits.axes_grid1 import make_axes_locatable"
   ]
  },
  {
   "cell_type": "markdown",
   "metadata": {},
   "source": [
    "<a id=gen_test_signal></a>\n",
    "# Generate a Test Signal\n",
    "\n",
    "Review this [notebook on PAC generator](Notes_PAC_Generator.ipynb) to understand how signals are generated, and how the data are bundled into `'pacgen_raw.fif'`.\n",
    "\n",
    "Quick summary of the bundled data, the indices are referred to `case` in the code below:\n",
    "* 0: Varying the intensity of PAC, pac_mod\n",
    "* 1: Varying the side band frequencies of the AM signal, frq_mod\n",
    "* 2: Varying the phase of the AM signal, pha_mod\n",
    "* 3: Varying the center frequency of the AM signal, frq_var\n",
    "\n",
    "Each case consists of 10 channels.\n",
    "\n",
    "We chose case 0 as default. "
   ]
  },
  {
   "cell_type": "code",
   "execution_count": 2,
   "metadata": {},
   "outputs": [
    {
     "name": "stdout",
     "output_type": "stream",
     "text": [
      "Opening raw data file /Users/davidlu/Developer/PhD Projects/notes_mspacman/data/pacgen_raw.fif...\n",
      "Isotrak not found\n",
      "    Range : 0 ... 131071 =      0.000 ...     8.000 secs\n",
      "Ready.\n",
      "Reading 0 ... 131071  =      0.000 ...     8.000 secs...\n"
     ]
    }
   ],
   "source": [
    "fname = os.path.join(os.getcwd(), 'data', 'pacgen_raw.fif')\n",
    "\n",
    "raw = mne.io.read_raw_fif(fname, preload=True)\n",
    "\n",
    "dat = raw.get_data()\n",
    "Nch, Nsamp = dat.shape\n",
    "fs = int(raw.info['sfreq'])\n",
    "\n",
    "white = noise.white(Nsamp)\n",
    "pink = noise.pink(Nsamp)\n",
    "\n",
    "x = raw.get_data()\n",
    "\n",
    "x_obj = np.zeros((4,), dtype=np.object)\n",
    "for i in range(4):\n",
    "    x_obj[i] = x[11*i:11*(i+1), :]\n",
    "    \n",
    "# Select a signal\n",
    "case = 0\n",
    "ch = 10\n",
    "\n",
    "# Select signal to compute PAC on\n",
    "x_ = x_obj[case].copy()\n",
    "xn_ = x_obj[case].copy()\n",
    "\n",
    "xn_ += white\n",
    "xn_ += pink"
   ]
  },
  {
   "cell_type": "markdown",
   "metadata": {},
   "source": [
    "<a id=comod_procs></a>\n",
    "# PAC Comodulogram Processing\n",
    "\n",
    "The generated signals are filtered according to the parameters set.\n",
    "Since case 0 was chosen as default, the filter bank parameters are set to accomodate such frequency ranges."
   ]
  },
  {
   "cell_type": "code",
   "execution_count": 3,
   "metadata": {},
   "outputs": [],
   "source": [
    "# Set Parameters\n",
    "dp = 3\n",
    "da = 30\n",
    "fpsize = 15\n",
    "fasize = 15\n",
    "\n",
    "p_range = (6, 50)\n",
    "a_range = (60, 500)\n",
    "\n",
    "fp = np.arange(*p_range, int(np.ceil(np.diff(p_range)/fpsize)), dtype=int)\n",
    "fa = np.arange(*a_range, int(np.ceil(np.diff(a_range)/fasize)), dtype=int)\n",
    "\n",
    "fois_lo = np.asarray([(p-dp, p+dp) for p in fp])\n",
    "fois_hi = np.asarray([(a-da, a+da) for a in fa])"
   ]
  },
  {
   "cell_type": "code",
   "execution_count": 4,
   "metadata": {},
   "outputs": [
    {
     "name": "stderr",
     "output_type": "stream",
     "text": [
      "INFO:<class 'pytf.filter.filterbank.FilterBank'>:Creating the FilterBank class.\n",
      "INFO:<class 'pytf.filter.filterbank.FilterBank'>:Created the prototype filter.\n",
      "INFO:<class 'pytf.filter.filterbank.FilterBank'>:Initialized FilterBank.\n",
      "INFO:<class 'pytf.filter.filterbank.FilterBank'>:Creating the FilterBank class.\n",
      "INFO:<class 'pytf.filter.filterbank.FilterBank'>:Created the prototype filter.\n",
      "INFO:<class 'pytf.filter.filterbank.FilterBank'>:Initialized FilterBank.\n",
      "INFO:<class 'pytf.filter.filterbank.FilterBank'>:Creating the FilterBank class.\n",
      "INFO:<class 'pytf.filter.filterbank.FilterBank'>:Created the prototype filter.\n",
      "INFO:<class 'pytf.filter.filterbank.FilterBank'>:Initialized FilterBank.\n",
      "INFO:<class 'pytf.filter.filterbank.FilterBank'>:Creating the FilterBank class.\n",
      "INFO:<class 'pytf.filter.filterbank.FilterBank'>:Created the prototype filter.\n",
      "INFO:<class 'pytf.filter.filterbank.FilterBank'>:Initialized FilterBank.\n",
      "INFO:<class 'pytf.filter.filterbank.FilterBank'>:Creating the FilterBank class.\n",
      "INFO:<class 'pytf.filter.filterbank.FilterBank'>:Created the prototype filter.\n",
      "INFO:<class 'pytf.filter.filterbank.FilterBank'>:Initialized FilterBank.\n",
      "INFO:<class 'pytf.filter.filterbank.FilterBank'>:Creating the FilterBank class.\n",
      "INFO:<class 'pytf.filter.filterbank.FilterBank'>:Created the prototype filter.\n",
      "INFO:<class 'pytf.filter.filterbank.FilterBank'>:Initialized FilterBank.\n"
     ]
    }
   ],
   "source": [
    "# Processing Comodulogram\n",
    "nch, nsamp = xn_.shape\n",
    "mi2 = PhaseAmplitudeCoupling(nch=11, nsamp=nsamp, freq_phase=fois_lo, freq_amp=fois_hi, sample_rate=fs,\\\n",
    "                             nprocs=3, pac='mi', nbins=10, mprocs=True)\n",
    "\n",
    "hr2 = PhaseAmplitudeCoupling(nch=11, nsamp=nsamp, freq_phase=fois_lo, freq_amp=fois_hi, sample_rate=fs, \\\n",
    "                             nprocs=3, pac='hr', nbins=10, mprocs=True)\n",
    "\n",
    "mvl2 = PhaseAmplitudeCoupling(nch=11, nsamp=nsamp, freq_phase=fois_lo, freq_amp=fois_hi, sample_rate=fs, \\\n",
    "                              nprocs=3, pac='mvl', mprocs=True)\n",
    "\n",
    "pmi2 = mi2.comodulogram(xn_)[ch,:,:]\n",
    "mi2.kill()\n",
    "\n",
    "phr2 = hr2.comodulogram(xn_)[ch,:,:]\n",
    "hr2.kill()\n",
    "\n",
    "pmvl2 = mvl2.comodulogram(xn_, normalize=True)[ch,:,:]\n",
    "mvl2.kill()"
   ]
  },
  {
   "cell_type": "code",
   "execution_count": 5,
   "metadata": {},
   "outputs": [
    {
     "name": "stderr",
     "output_type": "stream",
     "text": [
      "INFO:<class 'pytf.filter.filterbank.FilterBank'>:Creating the FilterBank class.\n",
      "INFO:<class 'pytf.filter.filterbank.FilterBank'>:Created the prototype filter.\n",
      "INFO:<class 'pytf.filter.filterbank.FilterBank'>:Initialized FilterBank.\n",
      "INFO:<class 'pytf.filter.filterbank.FilterBank'>:Creating the FilterBank class.\n",
      "INFO:<class 'pytf.filter.filterbank.FilterBank'>:Created the prototype filter.\n",
      "INFO:<class 'pytf.filter.filterbank.FilterBank'>:Initialized FilterBank.\n",
      "/Users/davidlu/.virtualenvs/py-phd/lib/python3.6/site-packages/mspacman-0.1-py3.6.egg/mspacman/utilities/parallel.py:35: UserWarning: The multiprocessing is disabled! To enable multiprocessing, specify 'ins_shape' and 'out_shape' for preallocating shared memory.\n",
      "INFO:<class 'pytf.filter.filterbank.FilterBank'>:Creating the FilterBank class.\n",
      "INFO:<class 'pytf.filter.filterbank.FilterBank'>:Created the prototype filter.\n",
      "INFO:<class 'pytf.filter.filterbank.FilterBank'>:Initialized FilterBank.\n",
      "INFO:<class 'pytf.filter.filterbank.FilterBank'>:Creating the FilterBank class.\n",
      "INFO:<class 'pytf.filter.filterbank.FilterBank'>:Created the prototype filter.\n",
      "INFO:<class 'pytf.filter.filterbank.FilterBank'>:Initialized FilterBank.\n",
      "INFO:<class 'pytf.filter.filterbank.FilterBank'>:Creating the FilterBank class.\n",
      "INFO:<class 'pytf.filter.filterbank.FilterBank'>:Created the prototype filter.\n",
      "INFO:<class 'pytf.filter.filterbank.FilterBank'>:Initialized FilterBank.\n",
      "INFO:<class 'pytf.filter.filterbank.FilterBank'>:Creating the FilterBank class.\n",
      "INFO:<class 'pytf.filter.filterbank.FilterBank'>:Created the prototype filter.\n",
      "INFO:<class 'pytf.filter.filterbank.FilterBank'>:Initialized FilterBank.\n"
     ]
    }
   ],
   "source": [
    "# Processing Single PAC\n",
    "mi = PhaseAmplitudeCoupling(nch=11, nsamp=nsamp, freq_phase=np.asarray([(14, 30)]), freq_amp=np.asarray([(80, 200)]), \\\n",
    "                            sample_rate=fs, nprocs=1, pac='mi', nbins=10)\n",
    "mi_sim1 = mi.comodulogram(x_)[:,0,0]\n",
    "mi_simn1 = mi.comodulogram(xn_)[:,0,0]\n",
    "\n",
    "hr = PhaseAmplitudeCoupling(nch=11, nsamp=nsamp, freq_phase=np.asarray([(14, 30)]), freq_amp=np.asarray([(80, 200)]), \\\n",
    "                            sample_rate=fs, nprocs=1, pac='hr', nbins=10)\n",
    "hr_sim1 = hr.comodulogram(x_)[:,0,0]\n",
    "hr_simn1 = hr.comodulogram(xn_)[:,0,0]\n",
    "\n",
    "mvl = PhaseAmplitudeCoupling(nch=11, nsamp=nsamp, freq_phase=np.asarray([(14, 30)]), freq_amp=np.asarray([(80, 200)]), \\\n",
    "                             sample_rate=fs, nprocs=1, pac='mvl')\n",
    "mvl_sim1 = mvl.comodulogram(x_, normalize=True)[:,0,0]\n",
    "mvl_simn1 = mvl.comodulogram(xn_, normalize=True)[:,0,0]\n",
    "\n",
    "mi.kill()\n",
    "hr.kill()\n",
    "mvl.kill()"
   ]
  },
  {
   "cell_type": "markdown",
   "metadata": {},
   "source": [
    "<a id=plot_results></a>\n",
    "# Plot Comparison Results"
   ]
  },
  {
   "cell_type": "code",
   "execution_count": 6,
   "metadata": {},
   "outputs": [
    {
     "data": {
      "text/plain": [
       "Text(-5,15,'B')"
      ]
     },
     "execution_count": 6,
     "metadata": {},
     "output_type": "execute_result"
    },
    {
     "data": {
      "image/png": "[encoded data removed]",
      "text/plain": [
       "<Figure size 864x504 with 7 Axes>"
      ]
     },
     "metadata": {},
     "output_type": "display_data"
    }
   ],
   "source": [
    "fontsize = dict(\n",
    "    axis_label  = 20,\n",
    "    title_label = 20,\n",
    "    tick_label  = 20,\n",
    "    fign_label  = 20\n",
    ")\n",
    "\n",
    "pacs_specified = np.linspace(0,1,11)\n",
    "pac_outs = ['HR', 'MVL', 'MI']\n",
    "#################################\n",
    "# Create the plots of fig_pacio\n",
    "#################################\n",
    "fig_result1 = plt.figure(figsize=(12,7))\n",
    "gs1_result1 = GridSpec(2, 1, height_ratios=[1,2])\n",
    "gs2_result1 = GridSpec(2, 1, height_ratios=[1,2])\n",
    "gs3_result1 = GridSpec(2, 1, height_ratios=[1,2])\n",
    "\n",
    "gs1_result1.update(left=.1, right=.1+.25, top=.85, hspace=.4, wspace=2.5)\n",
    "gs2_result1.update(left=.375, right=.375+.25, top=.85, hspace=.4, wspace=2.5)\n",
    "gs3_result1.update(left=.375+.25+.025, right=.375+.5+.05, top=.85, hspace=.4, wspace=2.5)\n",
    "\n",
    "axa1_result1 = [0, 1, 2]\n",
    "axb1_result1 = [0, 1, 2]\n",
    "axa1_result1[0] = plt.subplot(gs1_result1[0, 0])\n",
    "axb1_result1[0] = plt.subplot(gs1_result1[1, 0])\n",
    "\n",
    "axa1_result1[1] = plt.subplot(gs2_result1[0, 0])\n",
    "axb1_result1[1] = plt.subplot(gs2_result1[1, 0])\n",
    "\n",
    "axa1_result1[2] = plt.subplot(gs3_result1[0, 0])\n",
    "axb1_result1[2] = plt.subplot(gs3_result1[1, 0])\n",
    "\n",
    "l1, l2 = axa1_result1[0].plot(pacs_specified, hr_sim1, 'k-o', pacs_specified, hr_simn1, 'k-x')\n",
    "l3, l4 = axa1_result1[1].plot(pacs_specified, mvl_sim1, 'k-o', pacs_specified, mvl_simn1, 'k-x')\n",
    "l5, l6 = axa1_result1[2].plot(pacs_specified, mi_sim1, 'k-o', pacs_specified, mi_simn1, 'k-x')\n",
    "\n",
    "# Plot organization properties\n",
    "fig_result1.legend((l1, l2), ('Without noise', 'With Noise'), loc=9, ncol=3, bbox_to_anchor=(0.5, 1),\n",
    "                   fontsize=fontsize['tick_label'], mode='expand', frameon=False)\n",
    "\n",
    "axa1_result1[0].set_ylabel('PAC \\n Computed', fontsize=fontsize['axis_label'])\n",
    "axa1_result1[0].set_yticks([0, 0.5, 1])\n",
    "axa1_result1[1].set_yticks([])\n",
    "axa1_result1[2].set_yticks([])\n",
    "\n",
    "[ax.set_xlabel('PAC Specified', fontsize=fontsize['axis_label']) for (col,),ax in np.ndenumerate(axa1_result1)]\n",
    "[ax.set_title(pac_outs[col], fontsize=fontsize['title_label']) for (col,),ax in np.ndenumerate(axa1_result1)]\n",
    "\n",
    "for ax in axa1_result1:\n",
    "    ax.set_xticks([0, 0.5, 1])\n",
    "\n",
    "for (col,), ax in np.ndenumerate(axa1_result1):\n",
    "    for tick in ax.xaxis.get_major_ticks():\n",
    "        tick.label.set_fontsize(fontsize['tick_label'])\n",
    "    for tick in ax.yaxis.get_major_ticks():\n",
    "        tick.label.set_fontsize(fontsize['tick_label'])\n",
    "\n",
    "#################################\n",
    "# Create the plots of fig_comod\n",
    "#################################\n",
    "\n",
    "vpacmin = np.min([phr2[:,:].min(), pmvl2[:,:].min(), pmi2[:,:].min()])\n",
    "vpacmax = np.max([phr2[:,:].max(), pmvl2[:,:].max(), pmi2[:,:].max()])\n",
    "\n",
    "hr2.plot_comodulogram(ch=ch, axs=[axb1_result1[0]], cbar=False, cmap='gray')\n",
    "mvl2.plot_comodulogram(ch=ch, axs=[axb1_result1[1]], cbar=False, cmap='gray')\n",
    "mi2.plot_comodulogram(ch=ch, axs=[axb1_result1[2]], cbar=False, cmap='gray')\n",
    "\n",
    "# Plot organization properties\n",
    "axb1_result1[0].set_ylabel('Amp. Freqs. [Hz]', fontsize=fontsize['axis_label'])\n",
    "[ax.set_xlabel('Phase Freqs. [Hz]', fontsize=fontsize['axis_label']) for ax in axb1_result1]\n",
    "for ax in axb1_result1:\n",
    "    for tick in ax.xaxis.get_major_ticks():\n",
    "        tick.label.set_fontsize(fontsize['tick_label'])\n",
    "    for tick in ax.yaxis.get_major_ticks():\n",
    "        tick.label.set_fontsize(fontsize['tick_label'])\n",
    "\n",
    "[ax.set_yticks([]) for ax in axb1_result1[1:]]\n",
    "axb1_result1[0].set_yticks([3, 8, 13])\n",
    "axb1_result1[0].set_yticklabels(['150', '300', '450'], fontsize=fontsize['title_label'])\n",
    "axb1_result1[0].set_xticks([3, 8, 13])\n",
    "axb1_result1[0].set_xticklabels(['15', '30', '45'], fontsize=fontsize['title_label'])\n",
    "\n",
    "axb1_result1[1].set_xticks([3, 8, 13])\n",
    "axb1_result1[1].set_xticklabels(['15', '30', '45'], fontsize=fontsize['title_label'])\n",
    "\n",
    "axb1_result1[2].set_xticks([3, 8, 13])\n",
    "axb1_result1[2].set_xticklabels(['15', '30', '45'], fontsize=fontsize['title_label'])\n",
    "\n",
    "\n",
    "\n",
    "\n",
    "divider = [make_axes_locatable(ax) for ax in axb1_result1]\n",
    "cax2 = [div.append_axes(\"right\", size=\"5%\", pad=0.05) for div in divider]\n",
    "fig_result1.delaxes(fig_result1.axes[6])\n",
    "fig_result1.delaxes(fig_result1.axes[6])\n",
    "\n",
    "#Create second colorbar\n",
    "# cbar2 = fig_result1.colorbar(mi2.cax[-1], cax = cax2[-1])\n",
    "# cbar2.ax.tick_params(labelsize=fontsize['tick_label']) \n",
    "\n",
    "axb1_result1[0].text(-5, 28, 'A', fontsize=fontsize['title_label'], weight='bold')\n",
    "axb1_result1[0].text(-5, 15, 'B', fontsize=fontsize['title_label'], weight='bold')"
   ]
  },
  {
   "cell_type": "markdown",
   "metadata": {},
   "source": [
    "We demonstrated that all three PAC computing methods are capable of not only detecting PAC, but they are also able to track the changes in PAC intensities. It can be seen that MVL demonstrated the best performance out of the three given a simulated signal. HR showed difficulty in localizing a frequency pair (the comodulogram is the noisiest of three). MI showed nonlinearity in changes of PAC strength with the absent of signal noise. "
   ]
  },
  {
   "cell_type": "code",
   "execution_count": 7,
   "metadata": {},
   "outputs": [],
   "source": [
    "save_plot = False\n",
    "#################################\n",
    "# Save both figures\n",
    "#################################\n",
    "path_to_save_pacio = os.path.realpath(os.path.join(os.getcwd(),'pac_result1.eps'))\n",
    "\n",
    "if save_plot:\n",
    "    fig_result1.savefig(path_to_save_pacio)"
   ]
  },
  {
   "cell_type": "markdown",
   "metadata": {},
   "source": [
    "<a id=references></a>\n",
    "# References\n",
    "\n",
    "<a id=ref1></a>\n",
    "[1] A. B. L. Tort et al., “Measuring phase-amplitude coupling between neuronal oscillations of different frequencies,” J. Neurophysiol., vol. 104, no. 2, pp. 1195–1210, 2010. Available: http://jn.physiology.org/content/104/2/1195.\n",
    "\n",
    "<a id=ref2></a>\n",
    "[2] Brain Storm, \"Phase-Amplitude Coupling.\" http://neuroimage.usc.edu/brainstorm/Tutorials/TutPac.\n",
    "\n",
    "<a id=ref3></a>\n",
    "[3] B. Pittman-Polletta, W.-H. Hsieh, S. Kaur, M.-T. Lo, and K. Hu, “Detecting phase-amplitude coupling with high frequency resolution using adaptive decompositions,” J. Neurosci. Methods, vol. 226, pp. 15–32, 2014. Available: http://www.sciencedirect.com/science/article/pii/S016502701400017X?via%3Dihub"
   ]
  }
 ],
 "metadata": {
  "kernelspec": {
   "display_name": "Python 3",
   "language": "python",
   "name": "python3"
  },
  "language_info": {
   "codemirror_mode": {
    "name": "ipython",
    "version": 3
   },
   "file_extension": ".py",
   "mimetype": "text/x-python",
   "name": "python",
   "nbconvert_exporter": "python",
   "pygments_lexer": "ipython3",
   "version": "3.6.5"
  }
 },
 "nbformat": 4,
 "nbformat_minor": 2
}
